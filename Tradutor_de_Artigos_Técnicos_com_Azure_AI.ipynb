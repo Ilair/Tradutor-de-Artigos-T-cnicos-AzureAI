{
  "nbformat": 4,
  "nbformat_minor": 0,
  "metadata": {
    "colab": {
      "provenance": [],
      "authorship_tag": "ABX9TyNkNcqlPYtuMrz+BrNOwIQG",
      "include_colab_link": true
    },
    "kernelspec": {
      "name": "python3",
      "display_name": "Python 3"
    },
    "language_info": {
      "name": "python"
    }
  },
  "cells": [
    {
      "cell_type": "markdown",
      "metadata": {
        "id": "view-in-github",
        "colab_type": "text"
      },
      "source": [
        "<a href=\"https://colab.research.google.com/github/Ilair/Tradutor-de-Artigos-T-cnicos-AzureAI/blob/main/Tradutor_de_Artigos_T%C3%A9cnicos_com_Azure_AI.ipynb\" target=\"_parent\"><img src=\"https://colab.research.google.com/assets/colab-badge.svg\" alt=\"Open In Colab\"/></a>"
      ]
    },
    {
      "cell_type": "code",
      "execution_count": null,
      "metadata": {
        "colab": {
          "base_uri": "https://localhost:8080/"
        },
        "id": "bXmgFBOPpTre",
        "outputId": "eabad5c5-341d-4f9e-aac2-79acf796891e"
      },
      "outputs": [
        {
          "output_type": "stream",
          "name": "stdout",
          "text": [
            "Requirement already satisfied: requests in /usr/local/lib/python3.10/dist-packages (2.32.3)\n",
            "Collecting python-docx\n",
            "  Downloading python_docx-1.1.2-py3-none-any.whl.metadata (2.0 kB)\n",
            "Requirement already satisfied: charset-normalizer<4,>=2 in /usr/local/lib/python3.10/dist-packages (from requests) (3.4.0)\n",
            "Requirement already satisfied: idna<4,>=2.5 in /usr/local/lib/python3.10/dist-packages (from requests) (3.10)\n",
            "Requirement already satisfied: urllib3<3,>=1.21.1 in /usr/local/lib/python3.10/dist-packages (from requests) (2.2.3)\n",
            "Requirement already satisfied: certifi>=2017.4.17 in /usr/local/lib/python3.10/dist-packages (from requests) (2024.8.30)\n",
            "Requirement already satisfied: lxml>=3.1.0 in /usr/local/lib/python3.10/dist-packages (from python-docx) (5.3.0)\n",
            "Requirement already satisfied: typing-extensions>=4.9.0 in /usr/local/lib/python3.10/dist-packages (from python-docx) (4.12.2)\n",
            "Downloading python_docx-1.1.2-py3-none-any.whl (244 kB)\n",
            "\u001b[2K   \u001b[90m━━━━━━━━━━━━━━━━━━━━━━━━━━━━━━━━━━━━━━━━\u001b[0m \u001b[32m244.3/244.3 kB\u001b[0m \u001b[31m10.7 MB/s\u001b[0m eta \u001b[36m0:00:00\u001b[0m\n",
            "\u001b[?25hInstalling collected packages: python-docx\n",
            "Successfully installed python-docx-1.1.2\n"
          ]
        }
      ],
      "source": [
        "pip install requests python-docx"
      ]
    },
    {
      "cell_type": "code",
      "source": [
        "import requests\n",
        "from docx import document\n",
        "\n",
        "subscription_key = \"006a49775d0e4eca80c84d7277ccd653\"\n",
        "endpoint = 'https://api.cognitive.microsofttranslator.com'\n",
        "location = \"eastus\"\n",
        "language_destination = 'pt-br'\n",
        "\n",
        "def translator_text(text, target_language):\n",
        "  path = '/translate'\n",
        "  constructed_url = endpoint + path\n",
        "  headers = {\n",
        "      'Ocp-Apim-Subscription-key': subscription_key,\n",
        "      'Ocp-Apim-Subscription-Region': location,\n",
        "      'Content-type': str(os.urandom(16))\n",
        "  }\n",
        "\n",
        "  body = [{\n",
        "      'text': text\n",
        "  }]\n",
        "  params = {\n",
        "      'api-version': '3.0',\n",
        "      'from': 'en',\n",
        "      'to': [target_language]\n",
        "  }\n",
        "  request = requests.post(constructed_url, params=params, headers=headers, json=body)\n",
        "  response = request.json()\n",
        "  return response[0][\"translations\"][0][\"text\"]"
      ],
      "metadata": {
        "id": "O1ApGo04p0Zz"
      },
      "execution_count": 4,
      "outputs": []
    },
    {
      "cell_type": "code",
      "source": [
        "def translate_document(path):\n",
        "  document = Document(path)\n",
        "  full_text = []\n",
        "  for paragraph in document.paragraphs:\n",
        "    translated_text = translator_text(paragraph.text, language_destination)\n",
        "    full_text.append(translated_text)\n",
        "\n",
        "  translated_doc = Document()\n",
        "  for line in full_text:\n",
        "    translated_doc.add_paragraph(line)\n",
        "\n",
        "  path_translated = path.replace(\".docx\", f\"_{language_destination}.docx\")\n",
        "  translated_doc.save(path_translated)\n",
        "  return path_translated\n",
        "\n",
        "  input_file = \"/content/musica.docx\"\n",
        " translate_document(input_file)"
      ],
      "metadata": {
        "id": "kZx0Pj6lt4bk",
        "colab": {
          "base_uri": "https://localhost:8080/",
          "height": 106
        },
        "outputId": "f1236efc-201a-4073-c082-068862a210fd"
      },
      "execution_count": 9,
      "outputs": [
        {
          "output_type": "error",
          "ename": "IndentationError",
          "evalue": "unindent does not match any outer indentation level (<tokenize>, line 17)",
          "traceback": [
            "\u001b[0;36m  File \u001b[0;32m\"<tokenize>\"\u001b[0;36m, line \u001b[0;32m17\u001b[0m\n\u001b[0;31m    translate_document(input_file)\u001b[0m\n\u001b[0m    ^\u001b[0m\n\u001b[0;31mIndentationError\u001b[0m\u001b[0;31m:\u001b[0m unindent does not match any outer indentation level\n"
          ]
        }
      ]
    },
    {
      "cell_type": "code",
      "source": [
        "import requests\n",
        "from bs4 import BeautifulSoup\n",
        "\n",
        "def extract_text_from_url(url):\n",
        "  response = requests.get(url)\n",
        "\n",
        "  if response.status.code == 200:\n",
        "    soup - BeautifulSoup(response.text, 'html.parser')\n",
        "    for script_or_style in soup(['script', 'style']):\n",
        "      script_or_style.decompose()\n",
        "    texto = soup.get_text(separator= ' ')\n",
        "    #Limpartexto\n",
        "    linhas = (line.strip() for line in texto.splitlines())\n",
        "    parts = (phrase.strip() for line in linhas for phrase in line.split(\" \"))\n",
        "    texto_limpo = '\\n'.join(part for part in parts if part)\n",
        "    return texto_limpo\n",
        "  else:\n",
        "    print(f\"Failed to fetch the URL. Status code: {response.status.code}\")\n",
        "    return None\n",
        "\n",
        "\n",
        "  text = soup.get_text()\n",
        "  return text\n",
        "\n",
        "  extract_text_from_url('https://dev.to/kenakamu/azure-open-ai-in-vnet-3alo')\n"
      ],
      "metadata": {
        "id": "zXPoFKHExQRx"
      },
      "execution_count": null,
      "outputs": []
    },
    {
      "cell_type": "code",
      "source": [
        "from langchain_openai.chat_models.azure import AzureChatOpenAI\n",
        "\n",
        "client = AzureChatOpenAI(\n",
        "    azure_endpoint = \"https://oai-dio-bootcamp-dev-eastus-001.openai.azure.com/\", #usei as dos exemplos, pois não consegui concluir a criação no Azure\n",
        "    api_key = \"730f2276a6a54c01964cf11672f08e7c\",\n",
        "    api_version= \"2024-02-15-preview\",\n",
        "    deployment_name=\"gpt-4o-mini\"\n",
        "    max_retries=0\n",
        ")\n",
        "\n",
        "def translate_article(text, lang):\n",
        "  messages = [\n",
        "      (\"system\", \"Você atua como tradutor de textos\")\n",
        "      (\"user\", f\"Traduza o {text} para o idioma {lang} e responda em markdown\")\n",
        "  ]\n",
        "\n",
        "  response = client.invoke(messages)\n",
        "  print(response.content)\n",
        "  return response.content"
      ],
      "metadata": {
        "id": "VIIlzOqpzYxQ"
      },
      "execution_count": null,
      "outputs": []
    },
    {
      "cell_type": "code",
      "source": [
        "url = 'https://dev.to/kenakamu/azure-open-ai-in-vnet-3alo'\n",
        "text = extract_text_from_url(url)\n",
        "article = translate_article(text, \"pt-br\")\n",
        "\n",
        "print(article)"
      ],
      "metadata": {
        "id": "PdFrft4z10tF"
      },
      "execution_count": null,
      "outputs": []
    }
  ]
}